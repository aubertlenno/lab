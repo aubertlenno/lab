{
 "cells": [
  {
   "cell_type": "code",
   "execution_count": 3,
   "metadata": {},
   "outputs": [
    {
     "name": "stdout",
     "output_type": "stream",
     "text": [
      "['My', 'name', 'is', 'Kelly']\n"
     ]
    }
   ],
   "source": [
    "list1 = ['M','na','i','Ke']\n",
    "list2 = ['y','me','s','lly']\n",
    "output = []\n",
    "for i in range(len(list1)):\n",
    "    output.append(list1[i]+list2[i])\n",
    "print(output)\n"
   ]
  },
  {
   "cell_type": "code",
   "execution_count": 6,
   "metadata": {},
   "outputs": [
    {
     "name": "stdout",
     "output_type": "stream",
     "text": [
      "10 400\n",
      "20 300\n",
      "30 200\n",
      "40 100\n"
     ]
    }
   ],
   "source": [
    "list1 = [10,20,30,40]\n",
    "list2 = [100,200,300,400]\n",
    "for i in range(len(list1)):\n",
    "    print(list1[i], list2[-i-1])"
   ]
  },
  {
   "cell_type": "code",
   "execution_count": 8,
   "metadata": {},
   "outputs": [
    {
     "name": "stdout",
     "output_type": "stream",
     "text": [
      "['Hello Dear', 'Hello Sir', 'take Dear', 'take Sir']\n"
     ]
    }
   ],
   "source": [
    "list1 = ['Hello ', 'take ']\n",
    "list2 = ['Dear', 'Sir']\n",
    "output = []\n",
    "for i in range(len(list1)):\n",
    "    for j in range(len(list2)):\n",
    "        output.append(list1[i] + list2[j])\n",
    "print(output)"
   ]
  },
  {
   "cell_type": "code",
   "execution_count": 10,
   "metadata": {},
   "outputs": [
    {
     "ename": "TypeError",
     "evalue": "'list' object is not callable",
     "output_type": "error",
     "traceback": [
      "\u001b[1;31m---------------------------------------------------------------------------\u001b[0m",
      "\u001b[1;31mTypeError\u001b[0m                                 Traceback (most recent call last)",
      "Cell \u001b[1;32mIn [10], line 1\u001b[0m\n\u001b[1;32m----> 1\u001b[0m \u001b[39minput\u001b[39m \u001b[39m=\u001b[39m \u001b[39minput\u001b[39m(\u001b[39m\"\u001b[39m\u001b[39mEnter a word to check if it\u001b[39m\u001b[39m'\u001b[39m\u001b[39ms palindrome or not: \u001b[39m\u001b[39m\"\u001b[39m)\n\u001b[0;32m      3\u001b[0m \u001b[39mprint\u001b[39m(\u001b[39minput\u001b[39m)\n",
      "\u001b[1;31mTypeError\u001b[0m: 'list' object is not callable"
     ]
    }
   ],
   "source": [
    "input = input(\"Enter a word to check if it's palindrome or not: \")\n",
    "\n",
    "print(input)"
   ]
  },
  {
   "cell_type": "code",
   "execution_count": 13,
   "metadata": {},
   "outputs": [
    {
     "ename": "TypeError",
     "evalue": "'list' object is not callable",
     "output_type": "error",
     "traceback": [
      "\u001b[1;31m---------------------------------------------------------------------------\u001b[0m",
      "\u001b[1;31mTypeError\u001b[0m                                 Traceback (most recent call last)",
      "Cell \u001b[1;32mIn [13], line 1\u001b[0m\n\u001b[1;32m----> 1\u001b[0m \u001b[39minput\u001b[39m \u001b[39m=\u001b[39m (\u001b[39minput\u001b[39m(\u001b[39m\"\u001b[39m\u001b[39mEnter a word to check if it\u001b[39m\u001b[39m'\u001b[39m\u001b[39ms palindrome or not: \u001b[39m\u001b[39m\"\u001b[39m))\n\u001b[0;32m      3\u001b[0m \u001b[39mprint\u001b[39m(\u001b[39minput\u001b[39m)\n",
      "\u001b[1;31mTypeError\u001b[0m: 'list' object is not callable"
     ]
    }
   ],
   "source": [
    "input = (input(\"Enter a word to check if it's palindrome or not: \"))\n",
    "\n",
    "print(input)"
   ]
  },
  {
   "cell_type": "code",
   "execution_count": 16,
   "metadata": {},
   "outputs": [
    {
     "ename": "UnboundLocalError",
     "evalue": "local variable 'minutes' referenced before assignment",
     "output_type": "error",
     "traceback": [
      "\u001b[1;31m---------------------------------------------------------------------------\u001b[0m",
      "\u001b[1;31mUnboundLocalError\u001b[0m                         Traceback (most recent call last)",
      "Cell \u001b[1;32mIn [16], line 15\u001b[0m\n\u001b[0;32m     11\u001b[0m         \u001b[39mreturn\u001b[39;00m days\n\u001b[0;32m     12\u001b[0m     getDays()\n\u001b[1;32m---> 15\u001b[0m x \u001b[39m=\u001b[39m convert_to_days()\n\u001b[0;32m     16\u001b[0m \u001b[39mprint\u001b[39m(x)\n",
      "Cell \u001b[1;32mIn [16], line 12\u001b[0m, in \u001b[0;36mconvert_to_days\u001b[1;34m()\u001b[0m\n\u001b[0;32m     10\u001b[0m     days \u001b[39m=\u001b[39m hours \u001b[39m/\u001b[39m \u001b[39m24\u001b[39m\n\u001b[0;32m     11\u001b[0m     \u001b[39mreturn\u001b[39;00m days\n\u001b[1;32m---> 12\u001b[0m getDays()\n",
      "Cell \u001b[1;32mIn [16], line 8\u001b[0m, in \u001b[0;36mconvert_to_days.<locals>.getDays\u001b[1;34m()\u001b[0m\n\u001b[0;32m      7\u001b[0m \u001b[39mdef\u001b[39;00m \u001b[39mgetDays\u001b[39m():\n\u001b[1;32m----> 8\u001b[0m     minutes \u001b[39m=\u001b[39m seconds \u001b[39m/\u001b[39m \u001b[39m60\u001b[39m \u001b[39m+\u001b[39m minutes\n\u001b[0;32m      9\u001b[0m     hours \u001b[39m=\u001b[39m minutes \u001b[39m/\u001b[39m \u001b[39m60\u001b[39m \u001b[39m+\u001b[39m hours\n\u001b[0;32m     10\u001b[0m     days \u001b[39m=\u001b[39m hours \u001b[39m/\u001b[39m \u001b[39m24\u001b[39m\n",
      "\u001b[1;31mUnboundLocalError\u001b[0m: local variable 'minutes' referenced before assignment"
     ]
    }
   ],
   "source": [
    "hours = int(input(\"Enter number of hours: \"))\n",
    "minutes = int(input(\"Enter number of minutes: \"))\n",
    "seconds = int(input(\"Enter number of seconds: \"))\n",
    "\n",
    "def convert_to_days():\n",
    "    global seconds, minutes, hours\n",
    "    def getDays():\n",
    "        minutes = seconds / 60 + minutes\n",
    "        hours = minutes / 60 + hours\n",
    "        days = hours / 24\n",
    "        return days\n",
    "    getDays()\n",
    "\n",
    "\n",
    "x = convert_to_days()\n",
    "print(x)"
   ]
  }
 ],
 "metadata": {
  "kernelspec": {
   "display_name": "Python 3.10.6 64-bit",
   "language": "python",
   "name": "python3"
  },
  "language_info": {
   "codemirror_mode": {
    "name": "ipython",
    "version": 3
   },
   "file_extension": ".py",
   "mimetype": "text/x-python",
   "name": "python",
   "nbconvert_exporter": "python",
   "pygments_lexer": "ipython3",
   "version": "3.10.6"
  },
  "orig_nbformat": 4,
  "vscode": {
   "interpreter": {
    "hash": "17155dc7418f5d72b7d57771f68a5fe881f79834334c5aa1140d37dd27da37fc"
   }
  }
 },
 "nbformat": 4,
 "nbformat_minor": 2
}
